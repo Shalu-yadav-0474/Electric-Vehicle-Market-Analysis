{
 "cells": [
  {
   "cell_type": "markdown",
   "id": "71365583-add9-48f2-bbf6-6dee7fcdf523",
   "metadata": {},
   "source": [
    "#   Electric vehicle Market Analysis"
   ]
  },
  {
   "cell_type": "code",
   "execution_count": 1,
   "id": "73c8e05f-8d55-4aae-aaf5-4336c4dba0a6",
   "metadata": {},
   "outputs": [],
   "source": [
    "# importing packages\n",
    "import pandas as pd\n",
    "import numpy as np\n",
    "import matplotlib.pyplot as plt\n",
    "import seaborn as sns"
   ]
  },
  {
   "cell_type": "markdown",
   "id": "f6db463c-d8b4-4bf1-8eec-7ad554c0b3ef",
   "metadata": {},
   "source": [
    "# ----------> Data Exploration"
   ]
  },
  {
   "cell_type": "markdown",
   "id": "b6457869-105e-407f-8c28-7517ca5a6eaa",
   "metadata": {},
   "source": [
    "### Datasets\n",
    "\n",
    "##### We have 3 csv files:\n",
    "#####       1.electric_vehicle_sales_by_state.csv\n",
    "#####       2.electric_vehicle_sales_by_makers.csv\n",
    "#####       3.dim_date.csv\n",
    "\n",
    "######   Read all data from files"
   ]
  },
  {
   "cell_type": "code",
   "execution_count": 8,
   "id": "b9d3ccca-e3e5-401e-953b-20370b106c87",
   "metadata": {},
   "outputs": [],
   "source": [
    "df_salebystate = pd.read_excel(r'C:\\\\Users\\\\Shalu\\\\Desktop\\\\EV\\\\electric_vehicle_by_states.xlsx')\n",
    "df_salesbymaker = pd.read_excel(r'C:\\\\Users\\\\Shalu\\\\Desktop\\\\EV\\\\electric_vehicles_by_makers.xlsx')\n",
    "df_dimdate = pd.read_excel(r'C:\\Users\\\\Shalu\\\\Desktop\\\\EV\\\\Dim_date.xlsx')"
   ]
  },
  {
   "cell_type": "markdown",
   "id": "a94ea645-cb8e-4042-84e8-78d39bf933fe",
   "metadata": {},
   "source": [
    "#### Explore the sales by makers"
   ]
  },
  {
   "cell_type": "code",
   "execution_count": 11,
   "id": "d15c2868-6c4f-42b9-b3b5-7c4ab7451ac9",
   "metadata": {},
   "outputs": [
    {
     "data": {
      "text/html": [
       "<div>\n",
       "<style scoped>\n",
       "    .dataframe tbody tr th:only-of-type {\n",
       "        vertical-align: middle;\n",
       "    }\n",
       "\n",
       "    .dataframe tbody tr th {\n",
       "        vertical-align: top;\n",
       "    }\n",
       "\n",
       "    .dataframe thead th {\n",
       "        text-align: right;\n",
       "    }\n",
       "</style>\n",
       "<table border=\"1\" class=\"dataframe\">\n",
       "  <thead>\n",
       "    <tr style=\"text-align: right;\">\n",
       "      <th></th>\n",
       "      <th>date</th>\n",
       "      <th>vehicle_category</th>\n",
       "      <th>maker</th>\n",
       "      <th>electric_vehicles_sold</th>\n",
       "    </tr>\n",
       "  </thead>\n",
       "  <tbody>\n",
       "    <tr>\n",
       "      <th>0</th>\n",
       "      <td>2021-04-01</td>\n",
       "      <td>2-Wheelers</td>\n",
       "      <td>OLA ELECTRIC</td>\n",
       "      <td>0</td>\n",
       "    </tr>\n",
       "    <tr>\n",
       "      <th>1</th>\n",
       "      <td>2022-04-01</td>\n",
       "      <td>2-Wheelers</td>\n",
       "      <td>OKAYA EV</td>\n",
       "      <td>0</td>\n",
       "    </tr>\n",
       "    <tr>\n",
       "      <th>2</th>\n",
       "      <td>2021-05-01</td>\n",
       "      <td>2-Wheelers</td>\n",
       "      <td>OLA ELECTRIC</td>\n",
       "      <td>0</td>\n",
       "    </tr>\n",
       "    <tr>\n",
       "      <th>3</th>\n",
       "      <td>2021-06-01</td>\n",
       "      <td>2-Wheelers</td>\n",
       "      <td>OLA ELECTRIC</td>\n",
       "      <td>0</td>\n",
       "    </tr>\n",
       "    <tr>\n",
       "      <th>4</th>\n",
       "      <td>2021-07-01</td>\n",
       "      <td>2-Wheelers</td>\n",
       "      <td>OLA ELECTRIC</td>\n",
       "      <td>0</td>\n",
       "    </tr>\n",
       "    <tr>\n",
       "      <th>5</th>\n",
       "      <td>2021-08-01</td>\n",
       "      <td>2-Wheelers</td>\n",
       "      <td>OLA ELECTRIC</td>\n",
       "      <td>0</td>\n",
       "    </tr>\n",
       "    <tr>\n",
       "      <th>6</th>\n",
       "      <td>2021-09-01</td>\n",
       "      <td>2-Wheelers</td>\n",
       "      <td>OLA ELECTRIC</td>\n",
       "      <td>0</td>\n",
       "    </tr>\n",
       "    <tr>\n",
       "      <th>7</th>\n",
       "      <td>2021-10-01</td>\n",
       "      <td>2-Wheelers</td>\n",
       "      <td>OLA ELECTRIC</td>\n",
       "      <td>0</td>\n",
       "    </tr>\n",
       "    <tr>\n",
       "      <th>8</th>\n",
       "      <td>2021-11-01</td>\n",
       "      <td>2-Wheelers</td>\n",
       "      <td>OLA ELECTRIC</td>\n",
       "      <td>0</td>\n",
       "    </tr>\n",
       "    <tr>\n",
       "      <th>9</th>\n",
       "      <td>2021-04-01</td>\n",
       "      <td>4-Wheelers</td>\n",
       "      <td>BYD India</td>\n",
       "      <td>0</td>\n",
       "    </tr>\n",
       "  </tbody>\n",
       "</table>\n",
       "</div>"
      ],
      "text/plain": [
       "        date vehicle_category         maker  electric_vehicles_sold\n",
       "0 2021-04-01       2-Wheelers  OLA ELECTRIC                       0\n",
       "1 2022-04-01       2-Wheelers      OKAYA EV                       0\n",
       "2 2021-05-01       2-Wheelers  OLA ELECTRIC                       0\n",
       "3 2021-06-01       2-Wheelers  OLA ELECTRIC                       0\n",
       "4 2021-07-01       2-Wheelers  OLA ELECTRIC                       0\n",
       "5 2021-08-01       2-Wheelers  OLA ELECTRIC                       0\n",
       "6 2021-09-01       2-Wheelers  OLA ELECTRIC                       0\n",
       "7 2021-10-01       2-Wheelers  OLA ELECTRIC                       0\n",
       "8 2021-11-01       2-Wheelers  OLA ELECTRIC                       0\n",
       "9 2021-04-01       4-Wheelers     BYD India                       0"
      ]
     },
     "execution_count": 11,
     "metadata": {},
     "output_type": "execute_result"
    }
   ],
   "source": [
    "df_salesbymaker.head(10)"
   ]
  },
  {
   "cell_type": "code",
   "execution_count": 13,
   "id": "c6e91263-f0de-4163-ba57-a1ff9df3a4e7",
   "metadata": {},
   "outputs": [
    {
     "name": "stdout",
     "output_type": "stream",
     "text": [
      "<class 'pandas.core.frame.DataFrame'>\n",
      "RangeIndex: 816 entries, 0 to 815\n",
      "Data columns (total 4 columns):\n",
      " #   Column                  Non-Null Count  Dtype         \n",
      "---  ------                  --------------  -----         \n",
      " 0   date                    816 non-null    datetime64[ns]\n",
      " 1   vehicle_category        816 non-null    object        \n",
      " 2   maker                   816 non-null    object        \n",
      " 3   electric_vehicles_sold  816 non-null    int64         \n",
      "dtypes: datetime64[ns](1), int64(1), object(2)\n",
      "memory usage: 25.6+ KB\n"
     ]
    }
   ],
   "source": [
    "df_salesbymaker.info()     #Know about the dataset"
   ]
  },
  {
   "cell_type": "code",
   "execution_count": 14,
   "id": "1da179f1-9ab9-499b-b87f-0efc13bdb0cb",
   "metadata": {},
   "outputs": [
    {
     "data": {
      "text/plain": [
       "date                      0\n",
       "vehicle_category          0\n",
       "maker                     0\n",
       "electric_vehicles_sold    0\n",
       "dtype: int64"
      ]
     },
     "execution_count": 14,
     "metadata": {},
     "output_type": "execute_result"
    }
   ],
   "source": [
    "df_salesbymaker.isnull().sum()    #Check the whether there is null value or not."
   ]
  },
  {
   "cell_type": "code",
   "execution_count": 15,
   "id": "ec265a15-6c08-4b38-8cc4-54368f4afaf9",
   "metadata": {},
   "outputs": [
    {
     "data": {
      "text/plain": [
       "(816, 4)"
      ]
     },
     "execution_count": 15,
     "metadata": {},
     "output_type": "execute_result"
    }
   ],
   "source": [
    "df_salesbymaker.shape       #Size of row and  column"
   ]
  },
  {
   "cell_type": "code",
   "execution_count": 16,
   "id": "23222d7e-b1ca-4ed0-bbfd-f0a3490f8a3a",
   "metadata": {},
   "outputs": [
    {
     "data": {
      "text/plain": [
       "array(['2-Wheelers', '4-Wheelers'], dtype=object)"
      ]
     },
     "execution_count": 16,
     "metadata": {},
     "output_type": "execute_result"
    }
   ],
   "source": [
    "df_salesbymaker.vehicle_category.unique()"
   ]
  },
  {
   "cell_type": "code",
   "execution_count": 17,
   "id": "59d2a7a2-046b-48fc-b418-bb9d8e1e1ef0",
   "metadata": {},
   "outputs": [
    {
     "data": {
      "text/plain": [
       "array(['OLA ELECTRIC', 'OKAYA EV', 'BYD India', 'PCA Automobiles',\n",
       "       'BMW India', 'Volvo Auto India', 'KIA Motors', 'Mercedes -Benz AG',\n",
       "       'Tata Motors', 'MG Motor', 'Mahindra & Mahindra', 'Hyundai Motor',\n",
       "       'HERO ELECTRIC', 'OKINAWA', 'AMPERE', 'ATHER', 'PURE EV', 'TVS',\n",
       "       'REVOLT', 'BAJAJ', 'BEING', 'JITENDRA', 'OTHERS', 'BGAUSS',\n",
       "       'BATTRE ELECTRIC', 'KINETIC GREEN'], dtype=object)"
      ]
     },
     "execution_count": 17,
     "metadata": {},
     "output_type": "execute_result"
    }
   ],
   "source": [
    "df_salesbymaker.maker.unique()"
   ]
  },
  {
   "cell_type": "code",
   "execution_count": 18,
   "id": "4f73aa56-bce1-4649-a489-a4697ab51617",
   "metadata": {},
   "outputs": [
    {
     "name": "stdout",
     "output_type": "stream",
     "text": [
      "['AMPERE' 'ATHER' 'BAJAJ' 'BATTRE ELECTRIC' 'BEING' 'BGAUSS' 'BMW India'\n",
      " 'BYD India' 'HERO ELECTRIC' 'Hyundai Motor' 'JITENDRA' 'KIA Motors'\n",
      " 'KINETIC GREEN' 'MG Motor' 'Mahindra & Mahindra' 'Mercedes -Benz AG'\n",
      " 'OKAYA EV' 'OKINAWA' 'OLA ELECTRIC' 'OTHERS' 'PCA Automobiles' 'PURE EV'\n",
      " 'REVOLT' 'TVS' 'Tata Motors' 'Volvo Auto India']\n",
      "\n",
      "Number of maker in India 26\n"
     ]
    }
   ],
   "source": [
    "maker = df_salesbymaker.maker.unique()\n",
    "maker.sort()\n",
    "print(maker)\n",
    "print(\"\\nNumber of maker in India\", df_salesbymaker.maker.unique().size)"
   ]
  },
  {
   "cell_type": "code",
   "execution_count": 19,
   "id": "4c2e6381-d4cc-44b1-9bce-327dbf93eb02",
   "metadata": {},
   "outputs": [
    {
     "data": {
      "text/plain": [
       "maker\n",
       "Mercedes -Benz AG         388\n",
       "KIA Motors                557\n",
       "Volvo Auto India          568\n",
       "BMW India                1370\n",
       "PCA Automobiles          1684\n",
       "Hyundai Motor            2076\n",
       "BYD India                2419\n",
       "BATTRE ELECTRIC          4841\n",
       "KINETIC GREEN            9585\n",
       "JITENDRA                12438\n",
       "MG Motor                13753\n",
       "BGAUSS                  15051\n",
       "BEING                   18392\n",
       "PURE EV                 26524\n",
       "OKAYA EV                27036\n",
       "REVOLT                  27828\n",
       "Mahindra & Mahindra     41193\n",
       "Tata Motors             88935\n",
       "BAJAJ                  145606\n",
       "OTHERS                 156471\n",
       "OKINAWA                165231\n",
       "AMPERE                 167274\n",
       "HERO ELECTRIC          170394\n",
       "ATHER                  204449\n",
       "TVS                    272575\n",
       "OLA ELECTRIC           489473\n",
       "Name: electric_vehicles_sold, dtype: int64"
      ]
     },
     "execution_count": 19,
     "metadata": {},
     "output_type": "execute_result"
    }
   ],
   "source": [
    "df_salesbymaker.groupby(df_salesbymaker['maker']).electric_vehicles_sold.sum().sort_values()\n",
    "# Total number cars sold in each maker ie each company"
   ]
  },
  {
   "cell_type": "code",
   "execution_count": 21,
   "id": "1f50e456-e88c-40a9-b5c0-25063bf30236",
   "metadata": {},
   "outputs": [
    {
     "data": {
      "text/html": [
       "<div>\n",
       "<style scoped>\n",
       "    .dataframe tbody tr th:only-of-type {\n",
       "        vertical-align: middle;\n",
       "    }\n",
       "\n",
       "    .dataframe tbody tr th {\n",
       "        vertical-align: top;\n",
       "    }\n",
       "\n",
       "    .dataframe thead th {\n",
       "        text-align: right;\n",
       "    }\n",
       "</style>\n",
       "<table border=\"1\" class=\"dataframe\">\n",
       "  <thead>\n",
       "    <tr style=\"text-align: right;\">\n",
       "      <th></th>\n",
       "      <th>date</th>\n",
       "      <th>state</th>\n",
       "      <th>vehicle_category</th>\n",
       "      <th>electric_vehicles_sold</th>\n",
       "      <th>total_vehicles_sold</th>\n",
       "    </tr>\n",
       "  </thead>\n",
       "  <tbody>\n",
       "    <tr>\n",
       "      <th>0</th>\n",
       "      <td>2021-04-01</td>\n",
       "      <td>Sikkim</td>\n",
       "      <td>2-Wheelers</td>\n",
       "      <td>0</td>\n",
       "      <td>398</td>\n",
       "    </tr>\n",
       "    <tr>\n",
       "      <th>1</th>\n",
       "      <td>2021-04-01</td>\n",
       "      <td>Sikkim</td>\n",
       "      <td>4-Wheelers</td>\n",
       "      <td>0</td>\n",
       "      <td>361</td>\n",
       "    </tr>\n",
       "    <tr>\n",
       "      <th>2</th>\n",
       "      <td>2021-05-01</td>\n",
       "      <td>Sikkim</td>\n",
       "      <td>2-Wheelers</td>\n",
       "      <td>0</td>\n",
       "      <td>113</td>\n",
       "    </tr>\n",
       "    <tr>\n",
       "      <th>3</th>\n",
       "      <td>2021-05-01</td>\n",
       "      <td>Sikkim</td>\n",
       "      <td>4-Wheelers</td>\n",
       "      <td>0</td>\n",
       "      <td>98</td>\n",
       "    </tr>\n",
       "    <tr>\n",
       "      <th>4</th>\n",
       "      <td>2021-06-01</td>\n",
       "      <td>Sikkim</td>\n",
       "      <td>2-Wheelers</td>\n",
       "      <td>0</td>\n",
       "      <td>229</td>\n",
       "    </tr>\n",
       "    <tr>\n",
       "      <th>5</th>\n",
       "      <td>2021-06-01</td>\n",
       "      <td>Sikkim</td>\n",
       "      <td>4-Wheelers</td>\n",
       "      <td>0</td>\n",
       "      <td>244</td>\n",
       "    </tr>\n",
       "    <tr>\n",
       "      <th>6</th>\n",
       "      <td>2021-07-01</td>\n",
       "      <td>Sikkim</td>\n",
       "      <td>2-Wheelers</td>\n",
       "      <td>0</td>\n",
       "      <td>458</td>\n",
       "    </tr>\n",
       "    <tr>\n",
       "      <th>7</th>\n",
       "      <td>2021-07-01</td>\n",
       "      <td>Sikkim</td>\n",
       "      <td>4-Wheelers</td>\n",
       "      <td>0</td>\n",
       "      <td>452</td>\n",
       "    </tr>\n",
       "    <tr>\n",
       "      <th>8</th>\n",
       "      <td>2021-08-01</td>\n",
       "      <td>Sikkim</td>\n",
       "      <td>2-Wheelers</td>\n",
       "      <td>0</td>\n",
       "      <td>489</td>\n",
       "    </tr>\n",
       "    <tr>\n",
       "      <th>9</th>\n",
       "      <td>2021-08-01</td>\n",
       "      <td>Sikkim</td>\n",
       "      <td>4-Wheelers</td>\n",
       "      <td>0</td>\n",
       "      <td>408</td>\n",
       "    </tr>\n",
       "  </tbody>\n",
       "</table>\n",
       "</div>"
      ],
      "text/plain": [
       "        date   state vehicle_category  electric_vehicles_sold  \\\n",
       "0 2021-04-01  Sikkim       2-Wheelers                       0   \n",
       "1 2021-04-01  Sikkim       4-Wheelers                       0   \n",
       "2 2021-05-01  Sikkim       2-Wheelers                       0   \n",
       "3 2021-05-01  Sikkim       4-Wheelers                       0   \n",
       "4 2021-06-01  Sikkim       2-Wheelers                       0   \n",
       "5 2021-06-01  Sikkim       4-Wheelers                       0   \n",
       "6 2021-07-01  Sikkim       2-Wheelers                       0   \n",
       "7 2021-07-01  Sikkim       4-Wheelers                       0   \n",
       "8 2021-08-01  Sikkim       2-Wheelers                       0   \n",
       "9 2021-08-01  Sikkim       4-Wheelers                       0   \n",
       "\n",
       "   total_vehicles_sold  \n",
       "0                  398  \n",
       "1                  361  \n",
       "2                  113  \n",
       "3                   98  \n",
       "4                  229  \n",
       "5                  244  \n",
       "6                  458  \n",
       "7                  452  \n",
       "8                  489  \n",
       "9                  408  "
      ]
     },
     "execution_count": 21,
     "metadata": {},
     "output_type": "execute_result"
    }
   ],
   "source": [
    "df_salebystate.head(10)"
   ]
  },
  {
   "cell_type": "code",
   "execution_count": 25,
   "id": "610969b6-944f-4183-b4ed-681db433b119",
   "metadata": {},
   "outputs": [
    {
     "name": "stdout",
     "output_type": "stream",
     "text": [
      "<class 'pandas.core.frame.DataFrame'>\n",
      "RangeIndex: 2445 entries, 0 to 2444\n",
      "Data columns (total 5 columns):\n",
      " #   Column                  Non-Null Count  Dtype \n",
      "---  ------                  --------------  ----- \n",
      " 0   date                    2445 non-null   object\n",
      " 1   state                   2445 non-null   object\n",
      " 2   vehicle_category        2445 non-null   object\n",
      " 3   electric_vehicles_sold  2445 non-null   int64 \n",
      " 4   total_vehicles_sold     2445 non-null   int64 \n",
      "dtypes: int64(2), object(3)\n",
      "memory usage: 95.6+ KB\n"
     ]
    }
   ],
   "source": [
    "df_salesbystates.info()    #Know about the dataset"
   ]
  },
  {
   "cell_type": "code",
   "execution_count": 23,
   "id": "5a979182-7799-4dfe-9347-2e507732fe8e",
   "metadata": {},
   "outputs": [
    {
     "data": {
      "text/plain": [
       "(2445, 5)"
      ]
     },
     "execution_count": 23,
     "metadata": {},
     "output_type": "execute_result"
    }
   ],
   "source": [
    "df_salebystate.shape       #Size of row and  column"
   ]
  },
  {
   "cell_type": "code",
   "execution_count": 24,
   "id": "bcce0e77-740b-4a12-b90d-a19bc23a745f",
   "metadata": {},
   "outputs": [
    {
     "data": {
      "text/plain": [
       "date                      0\n",
       "state                     0\n",
       "vehicle_category          0\n",
       "electric_vehicles_sold    0\n",
       "total_vehicles_sold       0\n",
       "dtype: int64"
      ]
     },
     "execution_count": 24,
     "metadata": {},
     "output_type": "execute_result"
    }
   ],
   "source": [
    "df_salebystate.isnull().sum()    #Check the whether there is null value or not."
   ]
  },
  {
   "cell_type": "code",
   "execution_count": 25,
   "id": "078d1f6c-988a-4721-9957-0318a8863c10",
   "metadata": {},
   "outputs": [
    {
     "data": {
      "text/html": [
       "<div>\n",
       "<style scoped>\n",
       "    .dataframe tbody tr th:only-of-type {\n",
       "        vertical-align: middle;\n",
       "    }\n",
       "\n",
       "    .dataframe tbody tr th {\n",
       "        vertical-align: top;\n",
       "    }\n",
       "\n",
       "    .dataframe thead th {\n",
       "        text-align: right;\n",
       "    }\n",
       "</style>\n",
       "<table border=\"1\" class=\"dataframe\">\n",
       "  <thead>\n",
       "    <tr style=\"text-align: right;\">\n",
       "      <th></th>\n",
       "      <th>date</th>\n",
       "      <th>fiscal_year</th>\n",
       "      <th>quarter</th>\n",
       "    </tr>\n",
       "  </thead>\n",
       "  <tbody>\n",
       "    <tr>\n",
       "      <th>0</th>\n",
       "      <td>2021-04-01</td>\n",
       "      <td>2022</td>\n",
       "      <td>Q1</td>\n",
       "    </tr>\n",
       "    <tr>\n",
       "      <th>1</th>\n",
       "      <td>2021-05-01</td>\n",
       "      <td>2022</td>\n",
       "      <td>Q1</td>\n",
       "    </tr>\n",
       "    <tr>\n",
       "      <th>2</th>\n",
       "      <td>2021-06-01</td>\n",
       "      <td>2022</td>\n",
       "      <td>Q1</td>\n",
       "    </tr>\n",
       "    <tr>\n",
       "      <th>3</th>\n",
       "      <td>2021-07-01</td>\n",
       "      <td>2022</td>\n",
       "      <td>Q2</td>\n",
       "    </tr>\n",
       "    <tr>\n",
       "      <th>4</th>\n",
       "      <td>2021-08-01</td>\n",
       "      <td>2022</td>\n",
       "      <td>Q2</td>\n",
       "    </tr>\n",
       "    <tr>\n",
       "      <th>5</th>\n",
       "      <td>2021-09-01</td>\n",
       "      <td>2022</td>\n",
       "      <td>Q2</td>\n",
       "    </tr>\n",
       "    <tr>\n",
       "      <th>6</th>\n",
       "      <td>2021-10-01</td>\n",
       "      <td>2022</td>\n",
       "      <td>Q3</td>\n",
       "    </tr>\n",
       "    <tr>\n",
       "      <th>7</th>\n",
       "      <td>2021-11-01</td>\n",
       "      <td>2022</td>\n",
       "      <td>Q3</td>\n",
       "    </tr>\n",
       "    <tr>\n",
       "      <th>8</th>\n",
       "      <td>2021-12-01</td>\n",
       "      <td>2022</td>\n",
       "      <td>Q3</td>\n",
       "    </tr>\n",
       "    <tr>\n",
       "      <th>9</th>\n",
       "      <td>2022-01-01</td>\n",
       "      <td>2022</td>\n",
       "      <td>Q4</td>\n",
       "    </tr>\n",
       "  </tbody>\n",
       "</table>\n",
       "</div>"
      ],
      "text/plain": [
       "        date  fiscal_year quarter\n",
       "0 2021-04-01         2022      Q1\n",
       "1 2021-05-01         2022      Q1\n",
       "2 2021-06-01         2022      Q1\n",
       "3 2021-07-01         2022      Q2\n",
       "4 2021-08-01         2022      Q2\n",
       "5 2021-09-01         2022      Q2\n",
       "6 2021-10-01         2022      Q3\n",
       "7 2021-11-01         2022      Q3\n",
       "8 2021-12-01         2022      Q3\n",
       "9 2022-01-01         2022      Q4"
      ]
     },
     "execution_count": 25,
     "metadata": {},
     "output_type": "execute_result"
    }
   ],
   "source": [
    "df_dimdate.head(10)"
   ]
  },
  {
   "cell_type": "code",
   "execution_count": 26,
   "id": "819395a6-284f-4234-81f2-d1709d79614a",
   "metadata": {},
   "outputs": [
    {
     "name": "stdout",
     "output_type": "stream",
     "text": [
      "<class 'pandas.core.frame.DataFrame'>\n",
      "RangeIndex: 36 entries, 0 to 35\n",
      "Data columns (total 3 columns):\n",
      " #   Column       Non-Null Count  Dtype         \n",
      "---  ------       --------------  -----         \n",
      " 0   date         36 non-null     datetime64[ns]\n",
      " 1   fiscal_year  36 non-null     int64         \n",
      " 2   quarter      36 non-null     object        \n",
      "dtypes: datetime64[ns](1), int64(1), object(1)\n",
      "memory usage: 996.0+ bytes\n"
     ]
    }
   ],
   "source": [
    "df_dimdate.info()     #Know about the dataset"
   ]
  },
  {
   "cell_type": "code",
   "execution_count": 27,
   "id": "c21fa8b7-0cdd-45ff-add4-cb520c311b36",
   "metadata": {},
   "outputs": [
    {
     "data": {
      "text/plain": [
       "date           0\n",
       "fiscal_year    0\n",
       "quarter        0\n",
       "dtype: int64"
      ]
     },
     "execution_count": 27,
     "metadata": {},
     "output_type": "execute_result"
    }
   ],
   "source": [
    "df_dimdate.isnull().sum()"
   ]
  },
  {
   "cell_type": "markdown",
   "id": "6df3c208-62f3-4cd2-badd-efa1b7c81186",
   "metadata": {},
   "source": [
    "#  ------------> Data Cleaning"
   ]
  },
  {
   "cell_type": "code",
   "execution_count": 28,
   "id": "a2193d3d-b65c-491b-9fa7-e790c64d8ee3",
   "metadata": {},
   "outputs": [
    {
     "name": "stdout",
     "output_type": "stream",
     "text": [
      "['Andaman & Nicobar' 'Andaman & Nicobar Island' 'Andhra Pradesh'\n",
      " 'Arunachal Pradesh' 'Assam' 'Bihar' 'Chandigarh' 'Chhattisgarh'\n",
      " 'DNH and DD' 'Delhi' 'Goa' 'Gujarat' 'Haryana' 'Himachal Pradesh'\n",
      " 'Jammu and Kashmir' 'Jharkhand' 'Karnataka' 'Kerala' 'Ladakh'\n",
      " 'Madhya Pradesh' 'Maharashtra' 'Manipur' 'Meghalaya' 'Mizoram' 'Nagaland'\n",
      " 'Odisha' 'Puducherry' 'Punjab' 'Rajasthan' 'Sikkim' 'Tamil Nadu'\n",
      " 'Tripura' 'Uttar Pradesh' 'Uttarakhand' 'West Bengal']\n",
      "\n",
      " Number of states where sales happen are 35\n"
     ]
    }
   ],
   "source": [
    "states = df_salebystate['state'].unique()\n",
    "states.sort()\n",
    "print(states)\n",
    "print(\"\\n Number of states where sales happen are\", df_salebystate['state'].unique().size)"
   ]
  },
  {
   "cell_type": "code",
   "execution_count": 29,
   "id": "ee99bb5a-037c-4e6d-adf1-4aace0bc2d7f",
   "metadata": {},
   "outputs": [],
   "source": [
    "df_salebystate['state'] = df_salebystate['state'].replace('Andaman & Nicobar Island','Andaman & Nicobar')\n",
    "df_salebystate['state'] = df_salebystate['state'].replace('Chandigarh','Punjab')"
   ]
  },
  {
   "cell_type": "code",
   "execution_count": 30,
   "id": "54ff6fe9-1168-4c1f-a6c1-ea9e5f2123b1",
   "metadata": {},
   "outputs": [
    {
     "name": "stdout",
     "output_type": "stream",
     "text": [
      "['Andaman & Nicobar' 'Andhra Pradesh' 'Arunachal Pradesh' 'Assam' 'Bihar'\n",
      " 'Chhattisgarh' 'DNH and DD' 'Delhi' 'Goa' 'Gujarat' 'Haryana'\n",
      " 'Himachal Pradesh' 'Jammu and Kashmir' 'Jharkhand' 'Karnataka' 'Kerala'\n",
      " 'Ladakh' 'Madhya Pradesh' 'Maharashtra' 'Manipur' 'Meghalaya' 'Mizoram'\n",
      " 'Nagaland' 'Odisha' 'Puducherry' 'Punjab' 'Rajasthan' 'Sikkim'\n",
      " 'Tamil Nadu' 'Tripura' 'Uttar Pradesh' 'Uttarakhand' 'West Bengal']\n",
      "\n",
      " Number of states where sales happen are 33\n"
     ]
    }
   ],
   "source": [
    "states = df_salebystate['state'].unique()\n",
    "states.sort()\n",
    "print(states)\n",
    "print(\"\\n Number of states where sales happen are\", df_salebystate['state'].unique().size)"
   ]
  },
  {
   "cell_type": "markdown",
   "id": "392d0f69-5456-477a-b459-fa83267a5414",
   "metadata": {},
   "source": [
    "# -------------> Data Transformation"
   ]
  },
  {
   "cell_type": "markdown",
   "id": "2c44fac7-aadf-403b-b5da-9cc79c54df10",
   "metadata": {},
   "source": [
    "##### Create a penetration Rate column"
   ]
  },
  {
   "cell_type": "code",
   "execution_count": 31,
   "id": "6ee11d6a-fb4b-4558-990e-3188cf4acf01",
   "metadata": {},
   "outputs": [],
   "source": [
    "df_salebystate['penetration Rate'] = ((df_salebystate['electric_vehicles_sold']/df_salebystate['total_vehicles_sold']*100).round(2))"
   ]
  },
  {
   "cell_type": "code",
   "execution_count": 32,
   "id": "47da0524-0671-4ea9-ba51-8ad429326bad",
   "metadata": {},
   "outputs": [
    {
     "data": {
      "text/html": [
       "<div>\n",
       "<style scoped>\n",
       "    .dataframe tbody tr th:only-of-type {\n",
       "        vertical-align: middle;\n",
       "    }\n",
       "\n",
       "    .dataframe tbody tr th {\n",
       "        vertical-align: top;\n",
       "    }\n",
       "\n",
       "    .dataframe thead th {\n",
       "        text-align: right;\n",
       "    }\n",
       "</style>\n",
       "<table border=\"1\" class=\"dataframe\">\n",
       "  <thead>\n",
       "    <tr style=\"text-align: right;\">\n",
       "      <th></th>\n",
       "      <th>date</th>\n",
       "      <th>state</th>\n",
       "      <th>vehicle_category</th>\n",
       "      <th>electric_vehicles_sold</th>\n",
       "      <th>total_vehicles_sold</th>\n",
       "      <th>penetration Rate</th>\n",
       "    </tr>\n",
       "  </thead>\n",
       "  <tbody>\n",
       "    <tr>\n",
       "      <th>2435</th>\n",
       "      <td>2024-03-01</td>\n",
       "      <td>Tripura</td>\n",
       "      <td>2-Wheelers</td>\n",
       "      <td>41</td>\n",
       "      <td>3728</td>\n",
       "      <td>1.10</td>\n",
       "    </tr>\n",
       "    <tr>\n",
       "      <th>2436</th>\n",
       "      <td>2024-03-01</td>\n",
       "      <td>Punjab</td>\n",
       "      <td>2-Wheelers</td>\n",
       "      <td>215</td>\n",
       "      <td>1525</td>\n",
       "      <td>14.10</td>\n",
       "    </tr>\n",
       "    <tr>\n",
       "      <th>2437</th>\n",
       "      <td>2024-03-01</td>\n",
       "      <td>Puducherry</td>\n",
       "      <td>2-Wheelers</td>\n",
       "      <td>477</td>\n",
       "      <td>4337</td>\n",
       "      <td>11.00</td>\n",
       "    </tr>\n",
       "    <tr>\n",
       "      <th>2438</th>\n",
       "      <td>2024-03-01</td>\n",
       "      <td>Meghalaya</td>\n",
       "      <td>2-Wheelers</td>\n",
       "      <td>4</td>\n",
       "      <td>2223</td>\n",
       "      <td>0.18</td>\n",
       "    </tr>\n",
       "    <tr>\n",
       "      <th>2439</th>\n",
       "      <td>2024-03-01</td>\n",
       "      <td>Himachal Pradesh</td>\n",
       "      <td>2-Wheelers</td>\n",
       "      <td>90</td>\n",
       "      <td>4737</td>\n",
       "      <td>1.90</td>\n",
       "    </tr>\n",
       "    <tr>\n",
       "      <th>2440</th>\n",
       "      <td>2024-03-01</td>\n",
       "      <td>Mizoram</td>\n",
       "      <td>2-Wheelers</td>\n",
       "      <td>58</td>\n",
       "      <td>1932</td>\n",
       "      <td>3.00</td>\n",
       "    </tr>\n",
       "    <tr>\n",
       "      <th>2441</th>\n",
       "      <td>2024-03-01</td>\n",
       "      <td>DNH and DD</td>\n",
       "      <td>2-Wheelers</td>\n",
       "      <td>25</td>\n",
       "      <td>780</td>\n",
       "      <td>3.21</td>\n",
       "    </tr>\n",
       "    <tr>\n",
       "      <th>2442</th>\n",
       "      <td>2024-03-01</td>\n",
       "      <td>Manipur</td>\n",
       "      <td>2-Wheelers</td>\n",
       "      <td>13</td>\n",
       "      <td>1394</td>\n",
       "      <td>0.93</td>\n",
       "    </tr>\n",
       "    <tr>\n",
       "      <th>2443</th>\n",
       "      <td>2024-03-01</td>\n",
       "      <td>Andaman &amp; Nicobar</td>\n",
       "      <td>2-Wheelers</td>\n",
       "      <td>2</td>\n",
       "      <td>447</td>\n",
       "      <td>0.45</td>\n",
       "    </tr>\n",
       "    <tr>\n",
       "      <th>2444</th>\n",
       "      <td>2024-03-01</td>\n",
       "      <td>Nagaland</td>\n",
       "      <td>2-Wheelers</td>\n",
       "      <td>2</td>\n",
       "      <td>1180</td>\n",
       "      <td>0.17</td>\n",
       "    </tr>\n",
       "  </tbody>\n",
       "</table>\n",
       "</div>"
      ],
      "text/plain": [
       "           date              state vehicle_category  electric_vehicles_sold  \\\n",
       "2435 2024-03-01            Tripura       2-Wheelers                      41   \n",
       "2436 2024-03-01             Punjab       2-Wheelers                     215   \n",
       "2437 2024-03-01         Puducherry       2-Wheelers                     477   \n",
       "2438 2024-03-01          Meghalaya       2-Wheelers                       4   \n",
       "2439 2024-03-01   Himachal Pradesh       2-Wheelers                      90   \n",
       "2440 2024-03-01            Mizoram       2-Wheelers                      58   \n",
       "2441 2024-03-01         DNH and DD       2-Wheelers                      25   \n",
       "2442 2024-03-01            Manipur       2-Wheelers                      13   \n",
       "2443 2024-03-01  Andaman & Nicobar       2-Wheelers                       2   \n",
       "2444 2024-03-01           Nagaland       2-Wheelers                       2   \n",
       "\n",
       "      total_vehicles_sold  penetration Rate  \n",
       "2435                 3728              1.10  \n",
       "2436                 1525             14.10  \n",
       "2437                 4337             11.00  \n",
       "2438                 2223              0.18  \n",
       "2439                 4737              1.90  \n",
       "2440                 1932              3.00  \n",
       "2441                  780              3.21  \n",
       "2442                 1394              0.93  \n",
       "2443                  447              0.45  \n",
       "2444                 1180              0.17  "
      ]
     },
     "execution_count": 32,
     "metadata": {},
     "output_type": "execute_result"
    }
   ],
   "source": [
    "df_salebystate.tail(10)"
   ]
  },
  {
   "cell_type": "code",
   "execution_count": 33,
   "id": "f8a47953-fd24-4992-9109-2d5f35e1b696",
   "metadata": {},
   "outputs": [
    {
     "data": {
      "text/html": [
       "<div>\n",
       "<style scoped>\n",
       "    .dataframe tbody tr th:only-of-type {\n",
       "        vertical-align: middle;\n",
       "    }\n",
       "\n",
       "    .dataframe tbody tr th {\n",
       "        vertical-align: top;\n",
       "    }\n",
       "\n",
       "    .dataframe thead th {\n",
       "        text-align: right;\n",
       "    }\n",
       "</style>\n",
       "<table border=\"1\" class=\"dataframe\">\n",
       "  <thead>\n",
       "    <tr style=\"text-align: right;\">\n",
       "      <th></th>\n",
       "      <th>date</th>\n",
       "      <th>vehicle_category</th>\n",
       "      <th>maker</th>\n",
       "      <th>electric_vehicles_sold</th>\n",
       "      <th>fiscal_year</th>\n",
       "      <th>quarter</th>\n",
       "    </tr>\n",
       "  </thead>\n",
       "  <tbody>\n",
       "    <tr>\n",
       "      <th>0</th>\n",
       "      <td>2021-04-01</td>\n",
       "      <td>2-Wheelers</td>\n",
       "      <td>OLA ELECTRIC</td>\n",
       "      <td>0</td>\n",
       "      <td>2022</td>\n",
       "      <td>Q1</td>\n",
       "    </tr>\n",
       "    <tr>\n",
       "      <th>1</th>\n",
       "      <td>2022-04-01</td>\n",
       "      <td>2-Wheelers</td>\n",
       "      <td>OKAYA EV</td>\n",
       "      <td>0</td>\n",
       "      <td>2023</td>\n",
       "      <td>Q1</td>\n",
       "    </tr>\n",
       "    <tr>\n",
       "      <th>2</th>\n",
       "      <td>2021-05-01</td>\n",
       "      <td>2-Wheelers</td>\n",
       "      <td>OLA ELECTRIC</td>\n",
       "      <td>0</td>\n",
       "      <td>2022</td>\n",
       "      <td>Q1</td>\n",
       "    </tr>\n",
       "    <tr>\n",
       "      <th>3</th>\n",
       "      <td>2021-06-01</td>\n",
       "      <td>2-Wheelers</td>\n",
       "      <td>OLA ELECTRIC</td>\n",
       "      <td>0</td>\n",
       "      <td>2022</td>\n",
       "      <td>Q1</td>\n",
       "    </tr>\n",
       "    <tr>\n",
       "      <th>4</th>\n",
       "      <td>2021-07-01</td>\n",
       "      <td>2-Wheelers</td>\n",
       "      <td>OLA ELECTRIC</td>\n",
       "      <td>0</td>\n",
       "      <td>2022</td>\n",
       "      <td>Q2</td>\n",
       "    </tr>\n",
       "    <tr>\n",
       "      <th>5</th>\n",
       "      <td>2021-08-01</td>\n",
       "      <td>2-Wheelers</td>\n",
       "      <td>OLA ELECTRIC</td>\n",
       "      <td>0</td>\n",
       "      <td>2022</td>\n",
       "      <td>Q2</td>\n",
       "    </tr>\n",
       "    <tr>\n",
       "      <th>6</th>\n",
       "      <td>2021-09-01</td>\n",
       "      <td>2-Wheelers</td>\n",
       "      <td>OLA ELECTRIC</td>\n",
       "      <td>0</td>\n",
       "      <td>2022</td>\n",
       "      <td>Q2</td>\n",
       "    </tr>\n",
       "    <tr>\n",
       "      <th>7</th>\n",
       "      <td>2021-10-01</td>\n",
       "      <td>2-Wheelers</td>\n",
       "      <td>OLA ELECTRIC</td>\n",
       "      <td>0</td>\n",
       "      <td>2022</td>\n",
       "      <td>Q3</td>\n",
       "    </tr>\n",
       "    <tr>\n",
       "      <th>8</th>\n",
       "      <td>2021-11-01</td>\n",
       "      <td>2-Wheelers</td>\n",
       "      <td>OLA ELECTRIC</td>\n",
       "      <td>0</td>\n",
       "      <td>2022</td>\n",
       "      <td>Q3</td>\n",
       "    </tr>\n",
       "    <tr>\n",
       "      <th>9</th>\n",
       "      <td>2021-04-01</td>\n",
       "      <td>4-Wheelers</td>\n",
       "      <td>BYD India</td>\n",
       "      <td>0</td>\n",
       "      <td>2022</td>\n",
       "      <td>Q1</td>\n",
       "    </tr>\n",
       "  </tbody>\n",
       "</table>\n",
       "</div>"
      ],
      "text/plain": [
       "        date vehicle_category         maker  electric_vehicles_sold  \\\n",
       "0 2021-04-01       2-Wheelers  OLA ELECTRIC                       0   \n",
       "1 2022-04-01       2-Wheelers      OKAYA EV                       0   \n",
       "2 2021-05-01       2-Wheelers  OLA ELECTRIC                       0   \n",
       "3 2021-06-01       2-Wheelers  OLA ELECTRIC                       0   \n",
       "4 2021-07-01       2-Wheelers  OLA ELECTRIC                       0   \n",
       "5 2021-08-01       2-Wheelers  OLA ELECTRIC                       0   \n",
       "6 2021-09-01       2-Wheelers  OLA ELECTRIC                       0   \n",
       "7 2021-10-01       2-Wheelers  OLA ELECTRIC                       0   \n",
       "8 2021-11-01       2-Wheelers  OLA ELECTRIC                       0   \n",
       "9 2021-04-01       4-Wheelers     BYD India                       0   \n",
       "\n",
       "   fiscal_year quarter  \n",
       "0         2022      Q1  \n",
       "1         2023      Q1  \n",
       "2         2022      Q1  \n",
       "3         2022      Q1  \n",
       "4         2022      Q2  \n",
       "5         2022      Q2  \n",
       "6         2022      Q2  \n",
       "7         2022      Q3  \n",
       "8         2022      Q3  \n",
       "9         2022      Q1  "
      ]
     },
     "execution_count": 33,
     "metadata": {},
     "output_type": "execute_result"
    }
   ],
   "source": [
    "#Combining Date dataframe and sales by maker to know the fiscal year\n",
    "\n",
    "df_salesbymakerwithdate = df_salesbymaker.merge(df_dimdate, how='inner', on='date')      \n",
    "df_salesbymakerwithdate.head(10)"
   ]
  },
  {
   "cell_type": "code",
   "execution_count": 35,
   "id": "f4765d42-ff5f-4c3d-80f4-091beabc955e",
   "metadata": {},
   "outputs": [
    {
     "data": {
      "text/html": [
       "<div>\n",
       "<style scoped>\n",
       "    .dataframe tbody tr th:only-of-type {\n",
       "        vertical-align: middle;\n",
       "    }\n",
       "\n",
       "    .dataframe tbody tr th {\n",
       "        vertical-align: top;\n",
       "    }\n",
       "\n",
       "    .dataframe thead th {\n",
       "        text-align: right;\n",
       "    }\n",
       "</style>\n",
       "<table border=\"1\" class=\"dataframe\">\n",
       "  <thead>\n",
       "    <tr style=\"text-align: right;\">\n",
       "      <th></th>\n",
       "      <th>date</th>\n",
       "      <th>state</th>\n",
       "      <th>vehicle_category</th>\n",
       "      <th>electric_vehicles_sold</th>\n",
       "      <th>total_vehicles_sold</th>\n",
       "      <th>penetration Rate</th>\n",
       "      <th>fiscal_year</th>\n",
       "      <th>quarter</th>\n",
       "    </tr>\n",
       "  </thead>\n",
       "  <tbody>\n",
       "    <tr>\n",
       "      <th>0</th>\n",
       "      <td>2021-04-01</td>\n",
       "      <td>Sikkim</td>\n",
       "      <td>2-Wheelers</td>\n",
       "      <td>0</td>\n",
       "      <td>398</td>\n",
       "      <td>0.0</td>\n",
       "      <td>2022</td>\n",
       "      <td>Q1</td>\n",
       "    </tr>\n",
       "    <tr>\n",
       "      <th>1</th>\n",
       "      <td>2021-04-01</td>\n",
       "      <td>Sikkim</td>\n",
       "      <td>4-Wheelers</td>\n",
       "      <td>0</td>\n",
       "      <td>361</td>\n",
       "      <td>0.0</td>\n",
       "      <td>2022</td>\n",
       "      <td>Q1</td>\n",
       "    </tr>\n",
       "    <tr>\n",
       "      <th>2</th>\n",
       "      <td>2021-05-01</td>\n",
       "      <td>Sikkim</td>\n",
       "      <td>2-Wheelers</td>\n",
       "      <td>0</td>\n",
       "      <td>113</td>\n",
       "      <td>0.0</td>\n",
       "      <td>2022</td>\n",
       "      <td>Q1</td>\n",
       "    </tr>\n",
       "    <tr>\n",
       "      <th>3</th>\n",
       "      <td>2021-05-01</td>\n",
       "      <td>Sikkim</td>\n",
       "      <td>4-Wheelers</td>\n",
       "      <td>0</td>\n",
       "      <td>98</td>\n",
       "      <td>0.0</td>\n",
       "      <td>2022</td>\n",
       "      <td>Q1</td>\n",
       "    </tr>\n",
       "    <tr>\n",
       "      <th>4</th>\n",
       "      <td>2021-06-01</td>\n",
       "      <td>Sikkim</td>\n",
       "      <td>2-Wheelers</td>\n",
       "      <td>0</td>\n",
       "      <td>229</td>\n",
       "      <td>0.0</td>\n",
       "      <td>2022</td>\n",
       "      <td>Q1</td>\n",
       "    </tr>\n",
       "    <tr>\n",
       "      <th>5</th>\n",
       "      <td>2021-06-01</td>\n",
       "      <td>Sikkim</td>\n",
       "      <td>4-Wheelers</td>\n",
       "      <td>0</td>\n",
       "      <td>244</td>\n",
       "      <td>0.0</td>\n",
       "      <td>2022</td>\n",
       "      <td>Q1</td>\n",
       "    </tr>\n",
       "    <tr>\n",
       "      <th>6</th>\n",
       "      <td>2021-07-01</td>\n",
       "      <td>Sikkim</td>\n",
       "      <td>2-Wheelers</td>\n",
       "      <td>0</td>\n",
       "      <td>458</td>\n",
       "      <td>0.0</td>\n",
       "      <td>2022</td>\n",
       "      <td>Q2</td>\n",
       "    </tr>\n",
       "    <tr>\n",
       "      <th>7</th>\n",
       "      <td>2021-07-01</td>\n",
       "      <td>Sikkim</td>\n",
       "      <td>4-Wheelers</td>\n",
       "      <td>0</td>\n",
       "      <td>452</td>\n",
       "      <td>0.0</td>\n",
       "      <td>2022</td>\n",
       "      <td>Q2</td>\n",
       "    </tr>\n",
       "    <tr>\n",
       "      <th>8</th>\n",
       "      <td>2021-08-01</td>\n",
       "      <td>Sikkim</td>\n",
       "      <td>2-Wheelers</td>\n",
       "      <td>0</td>\n",
       "      <td>489</td>\n",
       "      <td>0.0</td>\n",
       "      <td>2022</td>\n",
       "      <td>Q2</td>\n",
       "    </tr>\n",
       "    <tr>\n",
       "      <th>9</th>\n",
       "      <td>2021-08-01</td>\n",
       "      <td>Sikkim</td>\n",
       "      <td>4-Wheelers</td>\n",
       "      <td>0</td>\n",
       "      <td>408</td>\n",
       "      <td>0.0</td>\n",
       "      <td>2022</td>\n",
       "      <td>Q2</td>\n",
       "    </tr>\n",
       "  </tbody>\n",
       "</table>\n",
       "</div>"
      ],
      "text/plain": [
       "        date   state vehicle_category  electric_vehicles_sold  \\\n",
       "0 2021-04-01  Sikkim       2-Wheelers                       0   \n",
       "1 2021-04-01  Sikkim       4-Wheelers                       0   \n",
       "2 2021-05-01  Sikkim       2-Wheelers                       0   \n",
       "3 2021-05-01  Sikkim       4-Wheelers                       0   \n",
       "4 2021-06-01  Sikkim       2-Wheelers                       0   \n",
       "5 2021-06-01  Sikkim       4-Wheelers                       0   \n",
       "6 2021-07-01  Sikkim       2-Wheelers                       0   \n",
       "7 2021-07-01  Sikkim       4-Wheelers                       0   \n",
       "8 2021-08-01  Sikkim       2-Wheelers                       0   \n",
       "9 2021-08-01  Sikkim       4-Wheelers                       0   \n",
       "\n",
       "   total_vehicles_sold  penetration Rate  fiscal_year quarter  \n",
       "0                  398               0.0         2022      Q1  \n",
       "1                  361               0.0         2022      Q1  \n",
       "2                  113               0.0         2022      Q1  \n",
       "3                   98               0.0         2022      Q1  \n",
       "4                  229               0.0         2022      Q1  \n",
       "5                  244               0.0         2022      Q1  \n",
       "6                  458               0.0         2022      Q2  \n",
       "7                  452               0.0         2022      Q2  \n",
       "8                  489               0.0         2022      Q2  \n",
       "9                  408               0.0         2022      Q2  "
      ]
     },
     "execution_count": 35,
     "metadata": {},
     "output_type": "execute_result"
    }
   ],
   "source": [
    "#Combining Date dataframe and sales by maker to know the fiscal year\n",
    "\n",
    "df_salebystatewithdate = df_salebystate.merge(df_dimdate, how='inner', on='date')      \n",
    "df_salebystatewithdate.head(10)"
   ]
  },
  {
   "cell_type": "markdown",
   "id": "ba01a74b-05f4-4e70-af89-0ec3b9aff75e",
   "metadata": {},
   "source": [
    "# ----------> Analysis"
   ]
  },
  {
   "cell_type": "markdown",
   "id": "f74340d9-f7c7-43f4-b86d-5925e53baaf4",
   "metadata": {},
   "source": [
    "### 1. EV SALES BY STATES"
   ]
  },
  {
   "cell_type": "code",
   "execution_count": 38,
   "id": "987f7cc6-dca3-4e02-adf1-854885d715db",
   "metadata": {},
   "outputs": [
    {
     "data": {
      "text/plain": [
       "state\n",
       "Punjab               144\n",
       "Sikkim                72\n",
       "Madhya Pradesh        72\n",
       "Uttar Pradesh         72\n",
       "Tamil Nadu            72\n",
       "Rajasthan             72\n",
       "Maharashtra           72\n",
       "Kerala                72\n",
       "Karnataka             72\n",
       "Gujarat               72\n",
       "Goa                   72\n",
       "Andhra Pradesh        72\n",
       "Jharkhand             72\n",
       "Haryana               72\n",
       "Himachal Pradesh      72\n",
       "Uttarakhand           72\n",
       "Delhi                 72\n",
       "Bihar                 72\n",
       "Tripura               72\n",
       "Puducherry            72\n",
       "Nagaland              72\n",
       "Mizoram               72\n",
       "Meghalaya             72\n",
       "Manipur               72\n",
       "Ladakh                72\n",
       "Jammu and Kashmir     72\n",
       "DNH and DD            72\n",
       "Chhattisgarh          72\n",
       "Assam                 72\n",
       "Arunachal Pradesh     72\n",
       "West Bengal           72\n",
       "Andaman & Nicobar     71\n",
       "Odisha                70\n",
       "Name: count, dtype: int64"
      ]
     },
     "execution_count": 38,
     "metadata": {},
     "output_type": "execute_result"
    }
   ],
   "source": [
    "States_by_EV_sold=df_salebystate.state.value_counts()\n",
    "States_by_EV_sold"
   ]
  },
  {
   "cell_type": "markdown",
   "id": "4977f46e-1076-4760-8e64-434232640895",
   "metadata": {},
   "source": [
    "### 2.Highest Penetration Rates in 2-Wheelers and 4-Wheelers (FY 2024)"
   ]
  },
  {
   "cell_type": "code",
   "execution_count": 39,
   "id": "1f1f15d7-b08d-4d66-9366-abb217fa2ed8",
   "metadata": {},
   "outputs": [
    {
     "data": {
      "text/html": [
       "<div>\n",
       "<style scoped>\n",
       "    .dataframe tbody tr th:only-of-type {\n",
       "        vertical-align: middle;\n",
       "    }\n",
       "\n",
       "    .dataframe tbody tr th {\n",
       "        vertical-align: top;\n",
       "    }\n",
       "\n",
       "    .dataframe thead th {\n",
       "        text-align: right;\n",
       "    }\n",
       "</style>\n",
       "<table border=\"1\" class=\"dataframe\">\n",
       "  <thead>\n",
       "    <tr style=\"text-align: right;\">\n",
       "      <th></th>\n",
       "      <th>date</th>\n",
       "      <th>state</th>\n",
       "      <th>vehicle_category</th>\n",
       "      <th>electric_vehicles_sold</th>\n",
       "      <th>total_vehicles_sold</th>\n",
       "      <th>penetration Rate</th>\n",
       "      <th>fiscal_year</th>\n",
       "      <th>quarter</th>\n",
       "    </tr>\n",
       "  </thead>\n",
       "  <tbody>\n",
       "    <tr>\n",
       "      <th>48</th>\n",
       "      <td>2023-04-01</td>\n",
       "      <td>Sikkim</td>\n",
       "      <td>2-Wheelers</td>\n",
       "      <td>0</td>\n",
       "      <td>465</td>\n",
       "      <td>0.0</td>\n",
       "      <td>2024</td>\n",
       "      <td>Q1</td>\n",
       "    </tr>\n",
       "    <tr>\n",
       "      <th>49</th>\n",
       "      <td>2023-04-01</td>\n",
       "      <td>Sikkim</td>\n",
       "      <td>4-Wheelers</td>\n",
       "      <td>0</td>\n",
       "      <td>439</td>\n",
       "      <td>0.0</td>\n",
       "      <td>2024</td>\n",
       "      <td>Q1</td>\n",
       "    </tr>\n",
       "    <tr>\n",
       "      <th>50</th>\n",
       "      <td>2023-05-01</td>\n",
       "      <td>Sikkim</td>\n",
       "      <td>2-Wheelers</td>\n",
       "      <td>0</td>\n",
       "      <td>507</td>\n",
       "      <td>0.0</td>\n",
       "      <td>2024</td>\n",
       "      <td>Q1</td>\n",
       "    </tr>\n",
       "    <tr>\n",
       "      <th>51</th>\n",
       "      <td>2023-05-01</td>\n",
       "      <td>Sikkim</td>\n",
       "      <td>4-Wheelers</td>\n",
       "      <td>0</td>\n",
       "      <td>448</td>\n",
       "      <td>0.0</td>\n",
       "      <td>2024</td>\n",
       "      <td>Q1</td>\n",
       "    </tr>\n",
       "    <tr>\n",
       "      <th>52</th>\n",
       "      <td>2023-06-01</td>\n",
       "      <td>Sikkim</td>\n",
       "      <td>2-Wheelers</td>\n",
       "      <td>0</td>\n",
       "      <td>517</td>\n",
       "      <td>0.0</td>\n",
       "      <td>2024</td>\n",
       "      <td>Q1</td>\n",
       "    </tr>\n",
       "    <tr>\n",
       "      <th>53</th>\n",
       "      <td>2023-06-01</td>\n",
       "      <td>Sikkim</td>\n",
       "      <td>4-Wheelers</td>\n",
       "      <td>0</td>\n",
       "      <td>457</td>\n",
       "      <td>0.0</td>\n",
       "      <td>2024</td>\n",
       "      <td>Q1</td>\n",
       "    </tr>\n",
       "    <tr>\n",
       "      <th>54</th>\n",
       "      <td>2023-07-01</td>\n",
       "      <td>Sikkim</td>\n",
       "      <td>2-Wheelers</td>\n",
       "      <td>0</td>\n",
       "      <td>423</td>\n",
       "      <td>0.0</td>\n",
       "      <td>2024</td>\n",
       "      <td>Q2</td>\n",
       "    </tr>\n",
       "    <tr>\n",
       "      <th>55</th>\n",
       "      <td>2023-07-01</td>\n",
       "      <td>Sikkim</td>\n",
       "      <td>4-Wheelers</td>\n",
       "      <td>0</td>\n",
       "      <td>371</td>\n",
       "      <td>0.0</td>\n",
       "      <td>2024</td>\n",
       "      <td>Q2</td>\n",
       "    </tr>\n",
       "    <tr>\n",
       "      <th>56</th>\n",
       "      <td>2023-08-01</td>\n",
       "      <td>Sikkim</td>\n",
       "      <td>2-Wheelers</td>\n",
       "      <td>0</td>\n",
       "      <td>465</td>\n",
       "      <td>0.0</td>\n",
       "      <td>2024</td>\n",
       "      <td>Q2</td>\n",
       "    </tr>\n",
       "    <tr>\n",
       "      <th>57</th>\n",
       "      <td>2023-08-01</td>\n",
       "      <td>Sikkim</td>\n",
       "      <td>4-Wheelers</td>\n",
       "      <td>0</td>\n",
       "      <td>460</td>\n",
       "      <td>0.0</td>\n",
       "      <td>2024</td>\n",
       "      <td>Q2</td>\n",
       "    </tr>\n",
       "  </tbody>\n",
       "</table>\n",
       "</div>"
      ],
      "text/plain": [
       "         date   state vehicle_category  electric_vehicles_sold  \\\n",
       "48 2023-04-01  Sikkim       2-Wheelers                       0   \n",
       "49 2023-04-01  Sikkim       4-Wheelers                       0   \n",
       "50 2023-05-01  Sikkim       2-Wheelers                       0   \n",
       "51 2023-05-01  Sikkim       4-Wheelers                       0   \n",
       "52 2023-06-01  Sikkim       2-Wheelers                       0   \n",
       "53 2023-06-01  Sikkim       4-Wheelers                       0   \n",
       "54 2023-07-01  Sikkim       2-Wheelers                       0   \n",
       "55 2023-07-01  Sikkim       4-Wheelers                       0   \n",
       "56 2023-08-01  Sikkim       2-Wheelers                       0   \n",
       "57 2023-08-01  Sikkim       4-Wheelers                       0   \n",
       "\n",
       "    total_vehicles_sold  penetration Rate  fiscal_year quarter  \n",
       "48                  465               0.0         2024      Q1  \n",
       "49                  439               0.0         2024      Q1  \n",
       "50                  507               0.0         2024      Q1  \n",
       "51                  448               0.0         2024      Q1  \n",
       "52                  517               0.0         2024      Q1  \n",
       "53                  457               0.0         2024      Q1  \n",
       "54                  423               0.0         2024      Q2  \n",
       "55                  371               0.0         2024      Q2  \n",
       "56                  465               0.0         2024      Q2  \n",
       "57                  460               0.0         2024      Q2  "
      ]
     },
     "execution_count": 39,
     "metadata": {},
     "output_type": "execute_result"
    }
   ],
   "source": [
    "df_penetration_rate=df_salebystatewithdate[(df_salebystatewithdate['fiscal_year'] == 2024)]\n",
    "df_penetration_rate.head(10)"
   ]
  },
  {
   "cell_type": "code",
   "execution_count": 44,
   "id": "d45c0fb0-91c4-4ab4-be1a-a274b9122e5e",
   "metadata": {},
   "outputs": [
    {
     "data": {
      "image/png": "[encoded data removed]",
      "text/plain": [
       "<Figure size 1000x600 with 1 Axes>"
      ]
     },
     "metadata": {},
     "output_type": "display_data"
    }
   ],
   "source": [
    "# For each state in the top 2-wheeler and 4-wheeler DataFrames, I added a suffix indicating the category ( (2W) for 2-wheelers and (4W) for 4-wheelers).\n",
    "# With these modifications, your bar chart will clearly indicate which penetration rates correspond to 2-wheelers and which correspond to 4-wheelers, \n",
    "# even if they are from the same states. This approach enhances the clarity of your visualization, making it easier for viewers to interpret the data.\n",
    "top_2_wheelers = df_penetration_rate[df_penetration_rate['vehicle_category'] == '2-Wheelers'].nlargest(5, 'penetration Rate')\n",
    "top_4_wheelers = df_penetration_rate[df_penetration_rate['vehicle_category'] == '4-Wheelers'].nlargest(5, 'penetration Rate')\n",
    "\n",
    "# Add suffix to states to differentiate them\n",
    "top_2_wheelers['state'] = top_2_wheelers['state'] + ' (2W)'\n",
    "top_4_wheelers['state'] = top_4_wheelers['state'] + ' (4W)'\n",
    "\n",
    "# Concatenate the two DataFrames\n",
    "top_states_combined = pd.concat([top_2_wheelers, top_4_wheelers])\n",
    "\n",
    "# Visualize\n",
    "plt.figure(figsize=(10, 6))\n",
    "bars = plt.bar(top_states_combined['state'], top_states_combined['penetration Rate'], color=['blue' if '2W' in x else 'orange' for x in top_states_combined['state']])\n",
    "\n",
    "# Adding labels and title\n",
    "plt.xlabel('States')\n",
    "plt.ylabel('penetration Rate')\n",
    "plt.title('Top 5 States with Highest Penetration Rates in 2-Wheelers and 4-Wheelers (FY 2024)')\n",
    "plt.xticks(rotation=45)\n",
    "plt.legend(handles=[bars[0], bars[5]], labels=['2-Wheelers', '4-Wheelers'])\n",
    "\n",
    "# Display the plot\n",
    "plt.tight_layout()\n",
    "plt.show()"
   ]
  },
  {
   "cell_type": "markdown",
   "id": "93662e55-f7f7-4fa4-b959-5063a003af64",
   "metadata": {},
   "source": [
    "### 3. The quarterly trends based on sales volume for the top 5 EV makers (2- wheelers & 4-wheelers) from 2022 to 2024"
   ]
  },
  {
   "cell_type": "code",
   "execution_count": 45,
   "id": "cc0f6e4a-bffe-4d06-9a69-83b876679814",
   "metadata": {},
   "outputs": [
    {
     "data": {
      "text/plain": [
       "array([2022, 2023, 2024], dtype=int64)"
      ]
     },
     "execution_count": 45,
     "metadata": {},
     "output_type": "execute_result"
    }
   ],
   "source": [
    "df_4wheeler_trends = df_salesbymakerwithdate[df_salesbymakerwithdate['vehicle_category'] == \"4-Wheelers\"]\n",
    "df_4wheeler_trends['fiscal_year'].unique()"
   ]
  },
  {
   "cell_type": "code",
   "execution_count": 46,
   "id": "1638cd93-9726-48bd-81e8-c0787c560da7",
   "metadata": {},
   "outputs": [
    {
     "data": {
      "text/plain": [
       "['Tata Motors',\n",
       " 'Mahindra & Mahindra',\n",
       " 'MG Motor',\n",
       " 'BYD India',\n",
       " 'Hyundai Motor']"
      ]
     },
     "execution_count": 46,
     "metadata": {},
     "output_type": "execute_result"
    }
   ],
   "source": [
    "top_evmakers = df_4wheeler_trends.groupby('maker')['electric_vehicles_sold'].sum().reset_index()\n",
    "top_5evmaker=top_evmakers.nlargest(5,'electric_vehicles_sold')['maker'].tolist()\n",
    "top_5evmaker"
   ]
  },
  {
   "cell_type": "code",
   "execution_count": 51,
   "id": "0d8a8fb4-5254-404d-8de9-0703fb7b5105",
   "metadata": {},
   "outputs": [
    {
     "data": {
      "text/plain": [
       "array([2022, 2023, 2024], dtype=int64)"
      ]
     },
     "execution_count": 51,
     "metadata": {},
     "output_type": "execute_result"
    }
   ],
   "source": [
    "df_2wheeler_trends = df_salesbymakerwithdate[df_salesbymakerwithdate['vehicle_category'] == \"2-Wheelers\"]\n",
    "df_2wheeler_trends['fiscal_year'].unique()"
   ]
  },
  {
   "cell_type": "code",
   "execution_count": 52,
   "id": "22cf2e6f-ebbc-4eb5-a2af-7caefa60b152",
   "metadata": {},
   "outputs": [
    {
     "data": {
      "text/plain": [
       "['OLA ELECTRIC', 'TVS', 'ATHER', 'HERO ELECTRIC', 'AMPERE']"
      ]
     },
     "execution_count": 52,
     "metadata": {},
     "output_type": "execute_result"
    }
   ],
   "source": [
    "top_evmakers = df_2wheeler_trends.groupby('maker')['electric_vehicles_sold'].sum().reset_index()\n",
    "top_5evmaker=top_evmakers.nlargest(5,'electric_vehicles_sold')['maker'].tolist()\n",
    "top_5evmaker"
   ]
  },
  {
   "cell_type": "markdown",
   "id": "c6f33068-0bd4-4316-b439-df7a07ced0af",
   "metadata": {},
   "source": [
    "### 4.Estimate the revenue growth rate of 4-wheeler and 2-wheelers EVs in India for 2022 vs 2024 and 2023 vs 2024"
   ]
  },
  {
   "cell_type": "code",
   "execution_count": 53,
   "id": "076d7a32-04de-4081-aba0-73a8f2bca9e5",
   "metadata": {},
   "outputs": [
    {
     "data": {
      "text/html": [
       "<div>\n",
       "<style scoped>\n",
       "    .dataframe tbody tr th:only-of-type {\n",
       "        vertical-align: middle;\n",
       "    }\n",
       "\n",
       "    .dataframe tbody tr th {\n",
       "        vertical-align: top;\n",
       "    }\n",
       "\n",
       "    .dataframe thead th {\n",
       "        text-align: right;\n",
       "    }\n",
       "</style>\n",
       "<table border=\"1\" class=\"dataframe\">\n",
       "  <thead>\n",
       "    <tr style=\"text-align: right;\">\n",
       "      <th></th>\n",
       "      <th>vehicle_category</th>\n",
       "      <th>fiscal_year</th>\n",
       "      <th>electric_vehicles_sold</th>\n",
       "    </tr>\n",
       "  </thead>\n",
       "  <tbody>\n",
       "    <tr>\n",
       "      <th>0</th>\n",
       "      <td>2-Wheelers</td>\n",
       "      <td>2022</td>\n",
       "      <td>252573</td>\n",
       "    </tr>\n",
       "    <tr>\n",
       "      <th>1</th>\n",
       "      <td>2-Wheelers</td>\n",
       "      <td>2023</td>\n",
       "      <td>727903</td>\n",
       "    </tr>\n",
       "    <tr>\n",
       "      <th>2</th>\n",
       "      <td>2-Wheelers</td>\n",
       "      <td>2024</td>\n",
       "      <td>932692</td>\n",
       "    </tr>\n",
       "    <tr>\n",
       "      <th>3</th>\n",
       "      <td>4-Wheelers</td>\n",
       "      <td>2022</td>\n",
       "      <td>18577</td>\n",
       "    </tr>\n",
       "    <tr>\n",
       "      <th>4</th>\n",
       "      <td>4-Wheelers</td>\n",
       "      <td>2023</td>\n",
       "      <td>47465</td>\n",
       "    </tr>\n",
       "  </tbody>\n",
       "</table>\n",
       "</div>"
      ],
      "text/plain": [
       "  vehicle_category  fiscal_year  electric_vehicles_sold\n",
       "0       2-Wheelers         2022                  252573\n",
       "1       2-Wheelers         2023                  727903\n",
       "2       2-Wheelers         2024                  932692\n",
       "3       4-Wheelers         2022                   18577\n",
       "4       4-Wheelers         2023                   47465"
      ]
     },
     "execution_count": 53,
     "metadata": {},
     "output_type": "execute_result"
    }
   ],
   "source": [
    "revenuegrowth = df_salesbymakerwithdate.groupby(['vehicle_category','fiscal_year'])['electric_vehicles_sold'].sum().reset_index()\n",
    "revenuegrowth.head()"
   ]
  },
  {
   "cell_type": "code",
   "execution_count": null,
   "id": "7465b10f-6aa1-429c-bf49-a67ea8319d03",
   "metadata": {},
   "outputs": [],
   "source": []
  }
 ],
 "metadata": {
  "kernelspec": {
   "display_name": "Python 3 (ipykernel)",
   "language": "python",
   "name": "python3"
  },
  "language_info": {
   "codemirror_mode": {
    "name": "ipython",
    "version": 3
   },
   "file_extension": ".py",
   "mimetype": "text/x-python",
   "name": "python",
   "nbconvert_exporter": "python",
   "pygments_lexer": "ipython3",
   "version": "3.12.7"
  }
 },
 "nbformat": 4,
 "nbformat_minor": 5
}
